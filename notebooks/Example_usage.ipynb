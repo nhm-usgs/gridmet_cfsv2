version https://git-lfs.github.com/spec/v1
oid sha256:5ef1c008321289b1c551e3c8361e2821859df95126fb7b640ac655f247ce765b
size 128131
